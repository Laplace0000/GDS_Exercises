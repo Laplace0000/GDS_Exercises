{
 "cells": [
  {
   "cell_type": "code",
   "execution_count": 63,
   "metadata": {},
   "outputs": [],
   "source": [
    "import re\n",
    "import pandas as pd\n",
    "from cleantext import clean"
   ]
  },
  {
   "cell_type": "markdown",
   "metadata": {},
   "source": [
    "## PART 1"
   ]
  },
  {
   "cell_type": "code",
   "execution_count": 72,
   "metadata": {},
   "outputs": [],
   "source": [
    "#cpr regex som er pænt ligeglad om en dato er valid eller ej (dit ejet problem)\n",
    "cprRE = r\"([0-2][0-9]|3[0-1])(0[0-9]|1[0-2])([0-9]{2})-?([0-9]{4})\"\n",
    "\n"
   ]
  },
  {
   "cell_type": "code",
   "execution_count": 90,
   "metadata": {},
   "outputs": [
    {
     "name": "stdout",
     "output_type": "stream",
     "text": [
      "000000-0000\n",
      "290200-1234\n",
      "311199-12345\n"
     ]
    }
   ],
   "source": [
    "#test af cpr regex (chatgpt used to generate fake data)\n",
    "cpr_list = [\n",
    "    \"200144-7290\",\n",
    "    \"020164-1952\",\n",
    "    \"1303494374\",\n",
    "    \"2006681112\",\n",
    "    \"280659-4979\",\n",
    "    \"050421-8939\",\n",
    "    \"1401704600\",\n",
    "    \"2708256898\",\n",
    "    \"141100-6779\",\n",
    "    \"211183-3482\",\n",
    "    \"2507371827\",\n",
    "    \"2510439716\",\n",
    "    \"1601594544\",\n",
    "    \"0808259665\",\n",
    "    \"2102077509\",\n",
    "    \"2503102352\",\n",
    "    \"130284-0998\",\n",
    "    \"1705956426\",\n",
    "    \"180263-5407\",\n",
    "    \"0604882964\",\n",
    "]\n",
    "\n",
    "\n",
    "for cpr in cpr_list:\n",
    "    match = re.match(cprRE, cpr)\n",
    "    if not match:\n",
    "        print(cpr)\n",
    "\n",
    "invalid_cpr_list = [\n",
    "    \"1234567890\",      # Missing separator but invalid format (should be DDMMYYIIII)\n",
    "    \"123456-789\",      # Too short (only 3 digits in the last part)\n",
    "    \"12345-67890\",     # Too many digits in the first part\n",
    "    \"1234-567890\",     # Incorrect separator placement\n",
    "    \"123456_7890\",     # Wrong separator (underscore instead of hyphen)\n",
    "    \"12A456-7890\",     # Contains a letter in the date part\n",
    "    \"123456-78B0\",     # Contains a letter in the identifier part\n",
    "    \"000000-0000\",     # All zeros (not realistic)\n",
    "    \"320299-1234\",     # Invalid date (February 32nd does not exist)\n",
    "    \"290200-1234\",     # Invalid leap year date (February 29th on a non-leap year)\n",
    "    \"311199-12345\",    # Too many digits in the last part\n",
    "    \"311299-\",         #Missing last 4 digits\n",
    "    \"-3112991234\",     # Starts with a separator\n",
    "    \"311299--1234\",    # Double separator\n",
    "    \"999999-9999\",     # Unrealistic high values\n",
    "    \"010120 1234\",     # Space instead of hyphen\n",
    "    \"010120123\",       # Last part too short\n",
    "    \"abcdef-ghij\",     # Only letters\n",
    "    \"01.01.20-1234\",   # Wrong date format (dots instead of numbers)\n",
    "    \"310499/5678\"      # Wrong separator (/ instead of -)\n",
    "]\n",
    "\n",
    "\n",
    "\n",
    "for cpr in invalid_cpr_list:\n",
    "    match = re.match(cprRE, cpr)\n",
    "    if match:\n",
    "        print(cpr)\n",
    "\n"
   ]
  },
  {
   "cell_type": "code",
   "execution_count": 65,
   "metadata": {},
   "outputs": [],
   "source": [
    "def yearofbirth (input_IIII, input_YY):\n",
    "    #Define IIII/YY&century relationship\n",
    "    table = [\n",
    "        ((1, 3999), (0, 99), 1900),\n",
    "        ((4000, 4999), (0, 36), 2000),\n",
    "        ((4000, 4999), (37, 99), 1900),\n",
    "        ((5000, 8999), (0, 57), 2000),\n",
    "        ((5000, 8999), (58, 99), 1800),\n",
    "        ((9000, 9999), (0, 36), 2000),\n",
    "        ((9000, 9999), (37, 99), 1900),\n",
    "    ]\n",
    "    \n",
    "    #check input and return if a matching touples in the same row exists\n",
    "    for (range_IIII, range_YY, century) in table:\n",
    "        if range_IIII[0] <= input_IIII <= range_IIII[1] and range_YY[0] <= input_YY <= range_YY[1]:\n",
    "            return century\n",
    "\n",
    "    #else raise error\n",
    "    raise ValueError(\"Invalid input\")\n",
    "\n"
   ]
  },
  {
   "cell_type": "markdown",
   "metadata": {},
   "source": [
    "## PART 2"
   ]
  },
  {
   "cell_type": "code",
   "execution_count": 66,
   "metadata": {},
   "outputs": [
    {
     "name": "stdout",
     "output_type": "stream",
     "text": [
      "<class 'pandas.core.frame.DataFrame'>\n",
      "RangeIndex: 250 entries, 0 to 249\n",
      "Data columns (total 16 columns):\n",
      " #   Column            Non-Null Count  Dtype  \n",
      "---  ------            --------------  -----  \n",
      " 0   Unnamed: 0        250 non-null    int64  \n",
      " 1   id                250 non-null    int64  \n",
      " 2   domain            250 non-null    object \n",
      " 3   type              238 non-null    object \n",
      " 4   url               250 non-null    object \n",
      " 5   content           250 non-null    object \n",
      " 6   scraped_at        250 non-null    object \n",
      " 7   inserted_at       250 non-null    object \n",
      " 8   updated_at        250 non-null    object \n",
      " 9   title             250 non-null    object \n",
      " 10  authors           170 non-null    object \n",
      " 11  keywords          0 non-null      float64\n",
      " 12  meta_keywords     250 non-null    object \n",
      " 13  meta_description  54 non-null     object \n",
      " 14  tags              27 non-null     object \n",
      " 15  summary           0 non-null      float64\n",
      "dtypes: float64(2), int64(2), object(12)\n",
      "memory usage: 31.4+ KB\n",
      "None\n"
     ]
    }
   ],
   "source": [
    "#load data\n",
    "dataPath = \"data/\"\n",
    "newsSample = pd.read_csv(dataPath + \"news_sample.csv\")\n",
    "nsdf = pd.DataFrame(newsSample)\n",
    "nsdf = nsdf.reset_index(drop=True)  # Reset index??\n",
    "print(nsdf.info())   # Check column types and missing values\n",
    "\n"
   ]
  },
  {
   "cell_type": "markdown",
   "metadata": {},
   "source": [
    "### Data Inspection\n",
    "------------------------------------------------------\n",
    "lbbablbalba"
   ]
  },
  {
   "cell_type": "code",
   "execution_count": null,
   "metadata": {},
   "outputs": [],
   "source": []
  },
  {
   "cell_type": "markdown",
   "metadata": {},
   "source": [
    "### 4. Cleaning"
   ]
  },
  {
   "cell_type": "code",
   "execution_count": 67,
   "metadata": {},
   "outputs": [],
   "source": [
    "def cleantext(input):\n",
    "    #make text lowercase\n",
    "    input_lowercase = input.lower()\n",
    "    #remove multiple white spaces, tabs, or new lines\n",
    "\n",
    "    #numbers, dates, emails, and URLs should be replaced by \"<NUM>\", \"<DATE>\", \"<EMAIL>\" AND \"<URL>\", respectively.\n",
    "    numberRE = r\"[0-9]+\"\n",
    "    datRE = r\"\"\n",
    "    emailRE = r\"^[a-zA-Z0-9._+-]+@(gmail|hotmail).(net|com|org)\"\n",
    "    urlRE = r\"\""
   ]
  },
  {
   "cell_type": "markdown",
   "metadata": {},
   "source": [
    "### 5.5) Cleaning Using Library"
   ]
  },
  {
   "cell_type": "code",
   "execution_count": 68,
   "metadata": {},
   "outputs": [],
   "source": [
    "def clean_text_column(text):\n",
    "    if isinstance(text, str):\n",
    "        return clean(text, lower=True, replace_with_url=\"<URL>\", replace_with_email=\"<EMAIL>\", replace_with_number=\"<NUMBER>\")\n",
    "    return text  # Return unchanged if not a string\n",
    "\n",
    "def cleanText(data):\n",
    "    data['content'] = data['content'].apply(clean_text_column)  # Apply function\n",
    "    return data"
   ]
  },
  {
   "cell_type": "code",
   "execution_count": 69,
   "metadata": {},
   "outputs": [],
   "source": [
    "nsdf_cleaned = cleanText(nsdf)"
   ]
  },
  {
   "cell_type": "code",
   "execution_count": 71,
   "metadata": {},
   "outputs": [
    {
     "name": "stdout",
     "output_type": "stream",
     "text": [
      "<bound method NDFrame.head of 0      sometimes the power of christmas will make you...\n",
      "1      awakening of 12 strands of dna \"reconnecting w...\n",
      "2      never hike alone: a friday the 13th fan film u...\n",
      "3      when a rare shark was caught, scientists were ...\n",
      "4      donald trump has the unnerving ability to abil...\n",
      "                             ...                        \n",
      "245    prison for rahm, god's work and many others\\nh...\n",
      "246    4 useful items for your tiny home\\nheadline: b...\n",
      "247    former cia director michael hayden said thursd...\n",
      "248    antonio sabato jr. says hollywood's liberal el...\n",
      "249    former u.s. president bill clinton on monday c...\n",
      "Name: content, Length: 250, dtype: object>\n"
     ]
    }
   ],
   "source": [
    "print(nsdf_cleaned['content'].head)"
   ]
  }
 ],
 "metadata": {
  "kernelspec": {
   "display_name": "Python 3",
   "language": "python",
   "name": "python3"
  },
  "language_info": {
   "codemirror_mode": {
    "name": "ipython",
    "version": 3
   },
   "file_extension": ".py",
   "mimetype": "text/x-python",
   "name": "python",
   "nbconvert_exporter": "python",
   "pygments_lexer": "ipython3",
   "version": "3.12.3"
  }
 },
 "nbformat": 4,
 "nbformat_minor": 2
}
