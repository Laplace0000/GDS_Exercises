{
 "cells": [
  {
   "cell_type": "code",
   "execution_count": 6,
   "metadata": {},
   "outputs": [],
   "source": [
    "import re\n",
    "import pandas as pd"
   ]
  },
  {
   "cell_type": "markdown",
   "metadata": {},
   "source": [
    "## PART 1"
   ]
  },
  {
   "cell_type": "code",
   "execution_count": 37,
   "metadata": {},
   "outputs": [],
   "source": [
    "#cpr regex som er pænt ligeglad om en dato er valid eller ej (dit ejet problem)\n",
    "cprRE = r\"([0-2][0-9]|3[0-1])(0[0-9]|1[0-2])([0-9]{2})/?([0-9]{4})\"\n",
    "\n"
   ]
  },
  {
   "cell_type": "code",
   "execution_count": 34,
   "metadata": {},
   "outputs": [],
   "source": [
    "def yearofbirth (input_IIII, input_YY):\n",
    "    #Define IIII/YY&century relationship\n",
    "    table = [\n",
    "        ((1, 3999), (0, 99), 1900),\n",
    "        ((4000, 4999), (0, 36), 2000),\n",
    "        ((4000, 4999), (37, 99), 1900),\n",
    "        ((5000, 8999), (0, 57), 2000),\n",
    "        ((5000, 8999), (58, 99), 1800),\n",
    "        ((9000, 9999), (0, 36), 2000),\n",
    "        ((9000, 9999), (37, 99), 1900),\n",
    "    ]\n",
    "    \n",
    "    #check input and return if a matching touples in the same row exists\n",
    "    for (range_IIII, range_YY, century) in table:\n",
    "        if range_IIII[0] <= input_IIII <= range_IIII[1] and range_YY[0] <= input_YY <= range_YY[1]:\n",
    "            return century\n",
    "\n",
    "    #else raise error\n",
    "    raise ValueError(\"Invalid input\")\n",
    "\n"
   ]
  },
  {
   "cell_type": "code",
   "execution_count": 35,
   "metadata": {},
   "outputs": [
    {
     "data": {
      "text/plain": [
       "2000"
      ]
     },
     "execution_count": 35,
     "metadata": {},
     "output_type": "execute_result"
    }
   ],
   "source": []
  },
  {
   "cell_type": "code",
   "execution_count": 24,
   "metadata": {},
   "outputs": [
    {
     "name": "stdout",
     "output_type": "stream",
     "text": [
      "IIII       0001-3999\n",
      "YY             00-99\n",
      "century         1900\n",
      "Name: 0, dtype: object\n"
     ]
    }
   ],
   "source": []
  }
 ],
 "metadata": {
  "kernelspec": {
   "display_name": "Python 3",
   "language": "python",
   "name": "python3"
  },
  "language_info": {
   "codemirror_mode": {
    "name": "ipython",
    "version": 3
   },
   "file_extension": ".py",
   "mimetype": "text/x-python",
   "name": "python",
   "nbconvert_exporter": "python",
   "pygments_lexer": "ipython3",
   "version": "3.12.3"
  }
 },
 "nbformat": 4,
 "nbformat_minor": 2
}
