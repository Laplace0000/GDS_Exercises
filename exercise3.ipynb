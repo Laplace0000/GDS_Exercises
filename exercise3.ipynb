{
  "cells": [
    {
      "cell_type": "markdown",
      "metadata": {
        "id": "qqtFyUJ1sSMD"
      },
      "source": [
        "# Exercise 3: Learning from Data\n",
        "\n",
        "In this exercise, you will train different types of regression and classification models on two datasets. You will be graded based on a combination of your code producing the expected results, your written responses to the questions and a passing leaderboard score in the final exercise."
      ]
    },
    {
      "cell_type": "markdown",
      "metadata": {
        "id": "hRhksUEwsSMH"
      },
      "source": [
        "### 3.1 Linear / Logistic Regression for digit recognition\n",
        "\n",
        "In this part you will experiment with two different types of prediction models, and qualitatively + quantitatively compare them. You will be working with the classic MNIST dataset, which we can load from `sklearn.datasets`."
      ]
    },
    {
      "cell_type": "code",
      "execution_count": 14,
      "metadata": {
        "id": "nSImOGLFsSMJ"
      },
      "outputs": [],
      "source": [
        "# Importing the dataset\n",
        "import numpy as np\n",
        "from sklearn import datasets\n",
        "from sklearn.model_selection import train_test_split\n",
        "digits = datasets.load_digits();"
      ]
    },
    {
      "cell_type": "markdown",
      "metadata": {
        "id": "Nn_nLW1FsSML"
      },
      "source": [
        "Here we plot the first few digits and their labels. Apparently they are in order, but our upcoming models will not rely on this."
      ]
    },
    {
      "cell_type": "code",
      "execution_count": 2,
      "metadata": {
        "id": "OW5cZj0LsSMM"
      },
      "outputs": [
        {
          "data": {
            "image/png": "[encoded data removed]",
            "text/plain": [
              "<Figure size 1500x300 with 12 Axes>"
            ]
          },
          "metadata": {},
          "output_type": "display_data"
        }
      ],
      "source": [
        "import matplotlib.pyplot as plt\n",
        "\n",
        "_, axes = plt.subplots(nrows=1, ncols=12, figsize=(15, 3))\n",
        "for ax, image, label in zip(axes, digits.images, digits.target):\n",
        "    ax.set_axis_off()\n",
        "    ax.imshow(image, cmap=plt.cm.gray_r, interpolation=\"nearest\")\n",
        "    ax.set_title(\"Label: %i\" % label)"
      ]
    },
    {
      "cell_type": "markdown",
      "metadata": {
        "id": "z-4Ru0k2sSMN"
      },
      "source": [
        "### A: Warmup Exercise\n",
        "\n",
        "Use the `train_test_split` function from `sklearn.model_selection` twice to split the data into train, validation, and test sets, with a distribution of 80%, 10%, and 10% respectively. Use `random_state=0` for reproducibility.\n",
        "Check out the documentation to figure out how to set the parameters to get the desired split."
      ]
    },
    {
      "cell_type": "code",
      "execution_count": 51,
      "metadata": {
        "id": "IIqZiqKdsSMN"
      },
      "outputs": [],
      "source": [
        "# INSERT YOUR CODE HERE. ASSIGN TO THE FOLLOWING VARIABLES, X_train, X_val, X_test, y_train, y_val, y_test\n",
        "# >\n",
        "\n",
        "X_train, X_valtest, y_train, y_valtest = train_test_split(digits.images, digits.target, test_size=0.2, random_state=42, stratify=digits.target)\n",
        "X_test, X_val, y_test, y_val = train_test_split(X_valtest, y_valtest, test_size=0.5, random_state=42, stratify=y_valtest)\n"
      ]
    },
    {
      "cell_type": "markdown",
      "metadata": {
        "id": "dNP_N373sSMO"
      },
      "source": [
        "Now let's check out the returned training data, which is of the type `numpy.ndarray`, which you might have seen already. We want to make sure the classes are balanced, e.g. we don't have a lot more 4's than 5's.\n",
        " - How many images do we have for the train, validation, and test sets?\n",
        " - What is the distribution of the training labels? Comment on whether the classes are balanced."
      ]
    },
    {
      "cell_type": "code",
      "execution_count": 53,
      "metadata": {
        "id": "iwhPlRS4sSMP"
      },
      "outputs": [
        {
          "name": "stdout",
          "output_type": "stream",
          "text": [
            "Image amount for\n",
            "Training:  1437\n",
            "Testing:  180\n",
            "Evalutaion:  180\n",
            "\n",
            "Label counts for\n",
            "Training:  (array([0, 1, 2, 3, 4, 5, 6, 7, 8, 9]), array([142, 146, 142, 146, 145, 145, 145, 143, 139, 144])) Balance ration 1.0503597122302157\n",
            "Testing:  (array([0, 1, 2, 3, 4, 5, 6, 7, 8, 9]), array([18, 18, 17, 19, 18, 18, 18, 18, 18, 18])) Balance ration 1.1176470588235294\n",
            "Evalutaion:  (array([0, 1, 2, 3, 4, 5, 6, 7, 8, 9]), array([18, 18, 18, 18, 18, 19, 18, 18, 17, 18])) Balance ration 1.1176470588235294\n",
            "Balance ration full dataset:  1.0517241379310345\n"
          ]
        }
      ],
      "source": [
        "# CALCULATE AND WRITE YOUR ANSWERS HERE\n",
        "# >\n",
        "_, countsraw = np.unique(digits.target, return_counts=True)\n",
        "_, countstrain = np.unique(y_train, return_counts=True)\n",
        "_, countstest = np.unique(y_test, return_counts=True)\n",
        "_, countsval = np.unique(y_val, return_counts=True)\n",
        "\n",
        "print(\"Image amount for\")\n",
        "print(\"Training: \", X_train.shape[0],)\n",
        "print(\"Testing: \", X_test.shape[0])\n",
        "print(\"Evalutaion: \", X_val.shape[0])\n",
        "\n",
        "print(\"\\nLabel counts for\")\n",
        "print(\"Training: \", np.unique(y_train, return_counts=True), \"Balance ration\", max(countstrain)/min(countstrain))\n",
        "print(\"Testing: \",  np.unique(y_test, return_counts=True), \"Balance ration\", max(countstest)/min(countstest))\n",
        "print(\"Evalutaion: \",  np.unique(y_val, return_counts=True), \"Balance ration\", max(countsval)/min(countsval))\n",
        "print(\"Balance ration full dataset: \", max(countsraw)/min(countsraw))\n",
        "\n",
        "\n"
      ]
    },
    {
      "cell_type": "markdown",
      "metadata": {},
      "source": [
        "Balance in the dataset is here determined by calculating the ratio between the label with the most and least amounts of entries.\n",
        "The full dataset is very balanced, with a less than five percent difference in size between the biggest and smallest.\n",
        "By using the classic randomstate of 42 the balance of the split sets however where awfull with the testing ratio being 2.7 and the others not farring much better.\n",
        "As the dataset is small it is difficoult to stumble into a good distibution. nvm discovered stratify, now it is weelll balanced. \n"
      ]
    },
    {
      "cell_type": "markdown",
      "metadata": {
        "id": "ndWjTdZHsSMP"
      },
      "source": [
        "### B: Programming Exercise\n",
        "\n",
        "Let's build a model that learns to predict the digit given the image. We'll first try our hand at linear regression. We will use the `LinearRegression` class from `sklearn.linear_model`. Again, check out the documentation on how to use it. We will use the `fit` method to train the model, and the `predict` method to make predictions on the test set.\n",
        "Afterwards, evaluate the model using functions from `sklearn.metrics` module."
      ]
    },
    {
      "cell_type": "code",
      "execution_count": null,
      "metadata": {
        "id": "im3QW3A1sSMQ"
      },
      "outputs": [],
      "source": [
        "# DEFINE A LinearRegression MODEL USING SKLEARN. ASSIGN THE MODEL TO THE VARIABLE model.\n",
        "# >\n",
        "\n",
        "# FIT THE MODEL AND MAKE PREDICTIONS ON THE TEST SET. ASSIGN THE PREDICTIONS TO THE VARIABLE y_pred.\n",
        "# >\n",
        "\n",
        "# ASSIGN YOUR MODEL'S TEST SET MSE TO THE VARIABLE mse AND ITS ACCURACY TO THE VARIABLE acc.\n",
        "# >\n",
        "\n",
        "\n",
        "# DO NOT INSERT OR CHANGE ANYTHING BELOW\n",
        "print(\"LinearRegression MSE: \", mse)\n",
        "print(\"LinearRegression accuracy: \", acc)\n",
        "\n",
        "_, axes = plt.subplots(nrows=1, ncols=10, figsize=(10, 3))\n",
        "for ax, image, prediction in zip(axes, X_test, y_pred):\n",
        "    ax.set_axis_off()\n",
        "    image = image.reshape(8, 8)\n",
        "    ax.imshow(image, cmap=plt.cm.gray_r, interpolation=\"nearest\")\n",
        "    ax.set_title(\"%i\" % prediction)"
      ]
    },
    {
      "cell_type": "markdown",
      "metadata": {
        "id": "GTiMjFCXsSMR"
      },
      "source": [
        "### C: Programming Exercise\n",
        "\n",
        "Now, let's model the task differently.\n",
        "You will use the `LogisticRegression`, again included in the module `sklearn.linear_model`, and again, check out the documentation to see how to use it. Fit the model and make predictions on the test set.\n",
        "\n",
        "You are asked to produce output with the same structure as in the above programming exercise (two printouts and one image), but for a different model this time."
      ]
    },
    {
      "cell_type": "code",
      "execution_count": null,
      "metadata": {
        "id": "VSIm-m3FsSMS"
      },
      "outputs": [],
      "source": [
        "# YOUR CODE HERE\n",
        "# >"
      ]
    },
    {
      "cell_type": "markdown",
      "metadata": {
        "id": "mauemhttsSMS"
      },
      "source": [
        "### Written Questions"
      ]
    },
    {
      "cell_type": "markdown",
      "metadata": {
        "id": "P0j-wXktsSMS"
      },
      "source": [
        "1a) Describe the trends you observe in the results. Is there anything interesting or unexpected?\n",
        "\n",
        "1b) How do the results compare to the linear regression model?\n",
        "\n",
        "1c) What do you think is the reason for this?"
      ]
    },
    {
      "cell_type": "markdown",
      "metadata": {
        "id": "Tu4LjDiJsSMS"
      },
      "source": [
        "## Exercise 3.2: Determine habitability"
      ]
    },
    {
      "cell_type": "markdown",
      "metadata": {
        "id": "cLeM565QsSMS"
      },
      "source": [
        "**Prediction task**: Build a logistic model for exoplanet habitability\n",
        "\n",
        "Your team is tasked with applying data science and machine learning techniques to analyze exoplanet data from the famous NASA Exoplanet Archive (NEA). Among 372 features, your goal is to build a model that predicts whether an exoplanet is potentially habitable (1) or non-habitable (0).\n",
        "\n",
        "\n",
        "**Evaluation metric**: F1-score\n",
        "\n",
        "\n",
        "Due to the highly imbalanced nature of the data—habitable planets are much rarer than their non-habitable counterparts—the evaluation metric is the F1-score, which balance precision and recall. This helps us know whether your model is truly effective at identifying the minority (habitable) class rather than simply achieving high overall accuracy by predicting the majority class.\n",
        "\n",
        "\n",
        "\n",
        "**Feature engineering**\n",
        "\n",
        "The most minimal version of a working solution should give you around 50-60% F1.\n",
        "\n",
        "You can improve this performance substantially—achieve closer to **85-90%** F1—by feature engineering and data preprocessing:\n",
        "- **Feature selection:** Only choosing relevant features (Hint: Look out for anything temperature-related)\n",
        "- **Feature creation:** Earth Similarity Index (see below)\n",
        "- **Feature transformation:** Scaling and standardization\n",
        "- **Imputation** of NaN/unknown values\n",
        "- **Oversampling** to increase the minority class\n",
        "\n",
        "Consider conducting exploratory data analysis (EDA) to gain useful insight about the dataset and leveraging a [Pipeline](https://scikit-learn.org/stable/modules/generated/sklearn.pipeline.Pipeline.html) to streamline your steps. For more information see the description on the [Kaggle page](https://www.kaggle.com/competitions/gds-exercise-3-2025-).\n",
        "\n",
        "\n",
        "Good luck, and we look forward to seeing your solutions!\n",
        "\n"
      ]
    },
    {
      "cell_type": "markdown",
      "metadata": {
        "id": "Gp2_4LgqsSMT"
      },
      "source": [
        "### D: Programming Exercise\n",
        "\n",
        "1. Create an account on Kaggle to join the Kaggle competition: [GDS Exercise 3 – 2025](https://www.kaggle.com/competitions/gds-exercise-3-2025-). You can either use your real name, or tell us your Kaggle username, so we can grade you.\n",
        "2. Download the [training and test data](https://www.kaggle.com/competitions/gds-exercise-3-2025-/data). Check out the Dataset Description for more information about the data and your task.\n",
        "2. Load the training data file `train.npz` and split it into `train`, `val`, and `test` splits.\n",
        "3. Use a linear or logistic regression model to fit the `train` split. Use the `val` split for model selection and hyperparameter optimization, while reserving the `test` split for evaluation exclusively. (You should measure performance using f1-score)."
      ]
    },
    {
      "cell_type": "code",
      "execution_count": null,
      "metadata": {
        "id": "3wHn00kesSMT"
      },
      "outputs": [],
      "source": [
        "# YOUR CODE HERE\n",
        "# >"
      ]
    },
    {
      "cell_type": "markdown",
      "metadata": {
        "id": "G3rbN5nGHkdq"
      },
      "source": [
        "### E: Calculate the [Earth Similarity Index](https://en.wikipedia.org/wiki/Earth_Similarity_Index?wprov=sfla1) (Optional)\n",
        "Evidently, astronomers have observed Earth to be a very habitable planet (1) with their telescopes. As such, we make the remark that planets with properties similar to Earth tend to make excellent candidates for planet habitability.\n",
        "\n",
        "\n",
        "Earth Similarity Index (ESI) is a metric defined as:\n",
        "\n",
        "$$\n",
        "\\text{ESI} = \\prod_{i=1}^n \\left(1 - \\left| \\frac{x_i - x_{i,\\oplus}}{x_i + x_{i,\\oplus}} \\right| \\right)^\\frac{w_i}{n}\n",
        "$$\n",
        "\n",
        "where  \n",
        "$ x_i $ and $ x_{i,\\oplus} $ are features of the extraterrestrial body and of Earth respectively,  \n",
        "$ w_i $ is the weighted exponent of each feature, and  \n",
        "$ n $ is the total number of features.\n",
        "\n",
        "The weight assigned to each feature,\n",
        "$w_i$, are free parameters that can be chosen to emphasize certain characteristics over others, e.g. surface temperature is often given a much higher weight because maintaining liquid water is crucial.\n",
        "\n",
        "1. For each selected feature, determine $w_i$. You may default these to 1 (equal weight) or draw on domain knowledge.\n",
        "\n",
        "2. Compute the `ESI` for each exoplanet in `X_train` and `X_test`. Check whether your results approximately match those in `exampleESI.csv`\n",
        "\n",
        "3. When confident in you calculations, add `ESI` as a new column in both sets.\n",
        "\n",
        "4. Retrain your logistic model with your new `ESI` feature included."
      ]
    },
    {
      "cell_type": "code",
      "execution_count": null,
      "metadata": {
        "id": "CJUPXc_ElH91"
      },
      "outputs": [],
      "source": [
        "# YOUR CODE HERE\n",
        "# >"
      ]
    },
    {
      "cell_type": "markdown",
      "metadata": {
        "id": "E4zr0P2OsSMT"
      },
      "source": [
        "### F: Unlabelled data evaluation\n",
        "\n",
        "After downloading the unlabeled [test.npz](https://www.kaggle.com/competitions/gds-exercise-3-2025-/data), you will make predictions in `y_pred` for all of the unlabeled exoplanets in `X_test`. You can submit your best predictions to Kaggle three times/day.\n",
        "\n",
        "This programming exercise is considered **passed** if you achieve  $\\text{F1-Score} \\ge 0.80$ on the [leaderboard](https://www.kaggle.com/competitions/gds-exercise-3-2025-/leaderboard) using only a logistic model."
      ]
    },
    {
      "cell_type": "code",
      "execution_count": null,
      "metadata": {
        "id": "Cc5Qh5-csSMU"
      },
      "outputs": [],
      "source": [
        "# LOAD THE TEST SET AND MAKE PREDICTIONS. ASSIGN THE PREDICTIONS TO THE VARIABLE y_pred.\n",
        "# >\n",
        "\n",
        "sample = pd.read_csv('sample_submission.csv') # Load `sample_submission.csv` to validate original indices\n",
        "sample['P_HABITABLE'] = y_pred  # assuming y_pred contains your predictions\n",
        "sample.to_csv('submission.csv', index=False)\n",
        "\n",
        "# NOW YOU CAN UPLOAD THE submission.csv FILE TO KAGGLE AND SEE YOUR ACCURACY"
      ]
    },
    {
      "cell_type": "markdown",
      "metadata": {
        "id": "XEavo41NsSMU"
      },
      "source": [
        "### Written Questions\n",
        "\n",
        "2a) Explain the different techniques and their purpose in your code for Programming Exercise D.\n",
        "\n",
        "2b) Which techniques were not useful in improving performance on this task?\n",
        "\n",
        "2c) Optional: Consider the exoplanet `Kepler-438 b` with `ESI=0.832838` and `P_HABITABLE=0`.\n",
        "Despite its high ESI, this planet gets violently nuked by its own sun every three Earth months. Discuss how a loss of granularity when designing a composite index, like the ESI, can result in masking outlier behavior.  "
      ]
    }
  ],
  "metadata": {
    "colab": {
      "provenance": []
    },
    "kernelspec": {
      "display_name": "Python 3",
      "language": "python",
      "name": "python3"
    },
    "language_info": {
      "codemirror_mode": {
        "name": "ipython",
        "version": 3
      },
      "file_extension": ".py",
      "mimetype": "text/x-python",
      "name": "python",
      "nbconvert_exporter": "python",
      "pygments_lexer": "ipython3",
      "version": "3.12.3"
    }
  },
  "nbformat": 4,
  "nbformat_minor": 0
}
